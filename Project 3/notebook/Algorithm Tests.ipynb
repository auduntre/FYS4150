{
 "cells": [
  {
   "cell_type": "markdown",
   "metadata": {},
   "source": [
    "## Algorithm tests for Project 3"
   ]
  },
  {
   "cell_type": "markdown",
   "metadata": {},
   "source": [
    "### Euler's and velocity Verlet method in co-planar solar system model\n",
    "\n",
    "Showing only for x-coor. y-coor is analogous.\n",
    "\n",
    "Acceleration is given for celestial body with mass $M_c$ as:\n",
    "\n",
    "$$ a_{i} = \\frac{F_G}{M_{c}} = G \\frac{M_{other}}{r_i^2},$$\n",
    "\n",
    "where $r_i$ is the distance between the celestial body and the other one.\n",
    "\n",
    "**Euler's method:**\n",
    "\n",
    "$$ x_{i+1} = x_i + hv_i + O(h^2) $$\n",
    "\n",
    "$$ v_{i+1} = v_i + ha_i + O(h^2) $$\n",
    "\n",
    "\n",
    "**Velocity Verlet formula:**\n",
    "\n",
    "$$ x_{i+1} = x_i + hv_{i} + \\frac{h^2}{2}a_i + O(h^3) $$\n",
    "\n",
    "$$ v_{i+1} = v_i + \\frac{h^2}{2}\\left(a_{i+1} + a_{i}\\right)$$\n"
   ]
  },
  {
   "cell_type": "code",
   "execution_count": 1,
   "metadata": {},
   "outputs": [],
   "source": [
    "import numpy as np\n",
    "import numba as nb\n",
    "import matplotlib.pyplot as plt\n",
    "\n",
    "%matplotlib inline"
   ]
  },
  {
   "cell_type": "markdown",
   "metadata": {},
   "source": [
    "### Integration classes:"
   ]
  },
  {
   "cell_type": "code",
   "execution_count": 2,
   "metadata": {},
   "outputs": [],
   "source": [
    "class Euler:\n",
    "    def __init__(self, solar_system):\n",
    "        self.sol = solar_system\n",
    "        \n",
    "        self.body = None\n",
    "        self.sol_pos = None\n",
    "        self.k = 0\n",
    "        \n",
    "        for i, body in enumerate(self.sol):\n",
    "            body.past_accl = body.accl\n",
    "            body.accl = np.asarray([0., 0.])\n",
    "                    \n",
    "            for j in range(len(self.sol)):\n",
    "                if j != i:\n",
    "                    body.calc_accl(self.sol[j])\n",
    "    \n",
    "    def __call__(self, nTimes, endTime):\n",
    "        h = endTime / nTimes\n",
    "        self.sol_pos = np.zeros((len(self.sol), nTimes, 2))\n",
    "        \n",
    "        for k in range(nTimes):\n",
    "            self.k = k\n",
    "            self.integrate(h)\n",
    "    \n",
    "    def integrate(self, h):\n",
    "        for i, body in enumerate(self.sol):\n",
    "            self.body = body\n",
    "            self.integrate_pos(h)\n",
    "            \n",
    "            body.past_accl = body.accl\n",
    "            body.accl = np.asarray([0., 0.])\n",
    "            \n",
    "            for j in range(len(self.sol)):\n",
    "                if j != i:\n",
    "                    body.calc_accl(self.sol[j])\n",
    "                               \n",
    "            self.integrate_vel(h)\n",
    "            \n",
    "            if self.sol_pos is not None:\n",
    "                self.sol_pos[i, self.k, :] = self.body.pos\n",
    "                            \n",
    "    def integrate_pos(self, h):\n",
    "        self.body.pos += h * self.body.vel\n",
    "    \n",
    "    def integrate_vel(self, h):\n",
    "        self.body.vel += h * self.body.accl\n",
    "    \n",
    "    @property\n",
    "    def system_pos(self):\n",
    "        return self.sol_pos\n",
    "        \n",
    "        \n",
    "class Verlet(Euler):\n",
    "    def integrate_pos(self, h):\n",
    "        self.body.pos += h * self.body.vel + 0.5 * h * h * self.body.accl\n",
    "    \n",
    "    def integrate_vel(self, h):\n",
    "        self.body.vel += 0.5 * h * (self.body.accl + self.body.past_accl)"
   ]
  },
  {
   "cell_type": "markdown",
   "metadata": {},
   "source": [
    "### Acceleration methods:"
   ]
  },
  {
   "cell_type": "code",
   "execution_count": 3,
   "metadata": {},
   "outputs": [],
   "source": [
    "class Acceleration:\n",
    "    def __init__(self, this_body, *args):\n",
    "        self.G = 4 * np.pi * np.pi\n",
    "        self.body = this_body\n",
    "    \n",
    "    def __call__(self, other_body):\n",
    "        r, direction = self.getRandDir(other_body)\n",
    "        self.body.accl += (self.G * other_body.mass / r**2) * direction\n",
    "    \n",
    "    def getRandDir(self, other_body):\n",
    "        r = np.linalg.norm(other_body.pos - self.body.pos)\n",
    "        direction = (other_body.pos - self.body.pos) / r\n",
    "        return r, direction\n",
    "\n",
    "        \n",
    "class BetaAcceleration(Acceleration):\n",
    "    def __init__(self, this_body, beta):\n",
    "        self.beta = beta\n",
    "        Acceleration.__init__(self, this_body)\n",
    "    \n",
    "    def __call__(self, other_body):\n",
    "        r, direction = self.getRandDir(other_body)\n",
    "        self.body.accl += (self.G * other_body.mass / r**self.beta) * direction\n",
    "        \n",
    "        \n",
    "class GenAcceleration(Acceleration):\n",
    "    def __init__(self, this_body, *args):\n",
    "        self.l = np.cross(this_body.pos, this_body.vel)\n",
    "        self.c2 = 63239.7263**2\n",
    "        \n",
    "        Acceleration.__init__(self, this_body)\n",
    "    \n",
    "    def __call__(self, other_body):\n",
    "        r, direction = self.getRandDir(other_body)\n",
    "        r2 = r * r\n",
    "        self.body.accl += ((1 + 3*self.l**2/(r2 * self.c2)) * self.G * \\\n",
    "                          other_body.mass / r2) * direction"
   ]
  },
  {
   "cell_type": "markdown",
   "metadata": {},
   "source": [
    "### Celestial body class:"
   ]
  },
  {
   "cell_type": "code",
   "execution_count": 4,
   "metadata": {},
   "outputs": [],
   "source": [
    "class Body:\n",
    "    def __init__(self, init_pos, init_vel, mass, accl_method, *accl_args):              \n",
    "        self._pos = np.asarray(init_pos)\n",
    "        self._vel = np.asarray(init_vel)\n",
    "        self._mass = mass\n",
    "        \n",
    "        self._accl = np.array([0.0, 0.0])\n",
    "        self._past_accl = None\n",
    "        \n",
    "        self.am = accl_method(self, *accl_args)\n",
    "        \n",
    "    def __call__(self):\n",
    "        print (\"Pos: {}, Vel: {}, Accl: {}\".format(self.pos,\n",
    "            self.vel, self.accl))\n",
    "        print (\"Accl Type: {}\".format(self.am.__class__.__name__))\n",
    "        \n",
    "    def calc_accl(self, other_body):\n",
    "        self.am(other_body)\n",
    "        \n",
    "    @property\n",
    "    def accl(self):\n",
    "        return self._accl\n",
    "    \n",
    "    @accl.setter\n",
    "    def accl(self, value):\n",
    "        self._accl = value\n",
    "    \n",
    "    @property\n",
    "    def past_accl(self):\n",
    "        return self._past_accl\n",
    "    \n",
    "    @past_accl.setter\n",
    "    def past_accl(self, value):\n",
    "        self._past_accl = value\n",
    "        \n",
    "    @property\n",
    "    def pos(self):\n",
    "        return self._pos\n",
    "    \n",
    "    @pos.setter\n",
    "    def pos(self, value):\n",
    "        self._pos = value\n",
    "        \n",
    "    @property\n",
    "    def vel(self):\n",
    "        return self._vel\n",
    "    \n",
    "    @vel.setter\n",
    "    def vel(self, value):\n",
    "        self._vel = value\n",
    "        \n",
    "    @property\n",
    "    def mass(self):\n",
    "        return self._mass     "
   ]
  },
  {
   "cell_type": "markdown",
   "metadata": {},
   "source": [
    "### Testing the Algorithm for two-body systems\n",
    "#### Integration method:"
   ]
  },
  {
   "cell_type": "code",
   "execution_count": 5,
   "metadata": {
    "scrolled": false
   },
   "outputs": [
    {
     "name": "stdout",
     "output_type": "stream",
     "text": [
      "Integration method: Euler\n",
      "EARTH:\n",
      "Pos: [ 1.00000006e+00 -2.69356579e-04], Vel: [2.08720251e-03 6.28318547e+00], Accl: [-3.94784062e+01  1.31142798e-02]\n",
      "Accl Type: Acceleration\n",
      "SUN:\n",
      "Pos: [-1.10670657e-13  6.28321255e-05], Vel: [-2.08720251e-09  4.58541802e-13], Accl: [ 3.94784062e-05 -1.31142798e-08]\n",
      "Accl Type: Acceleration\n",
      "---------------------------\n",
      "Integration method: Verlet\n",
      "EARTH:\n",
      "Pos: [ 1.00000039e+00 -3.68148305e-05], Vel: [6.26098343e-04 6.28318404e+00], Accl: [-3.94783862e+01  3.93389030e-03]\n",
      "Accl Type: Acceleration\n",
      "SUN:\n",
      "Pos: [-4.39161068e-13  6.28318930e-05], Vel: [-6.26098343e-10  1.89153662e-12], Accl: [ 3.94783862e-05 -3.93389030e-09]\n",
      "Accl Type: Acceleration\n",
      "---------------------------\n"
     ]
    }
   ],
   "source": [
    "IntegrationMethod = [Euler, Verlet]\n",
    "\n",
    "for IM in IntegrationMethod:\n",
    "    earth = Body([1., 0.], [0., 2. * np.pi], 1e-6, Acceleration)\n",
    "    sun = Body([0., 0.], [0., 0.], 1.0, Acceleration)\n",
    "\n",
    "    sol = [earth, sun]\n",
    "\n",
    "    integrator = IM(sol)\n",
    "    integrator(20000, 10)\n",
    "    \n",
    "    print (\"Integration method: {}\".format(IM.__name__))\n",
    "    print(\"EARTH:\")\n",
    "    earth()\n",
    "    print(\"SUN:\")\n",
    "    sun()\n",
    "    print(\"---------------------------\")"
   ]
  },
  {
   "cell_type": "markdown",
   "metadata": {},
   "source": [
    "#### Acceleration types"
   ]
  },
  {
   "cell_type": "code",
   "execution_count": 6,
   "metadata": {},
   "outputs": [
    {
     "name": "stdout",
     "output_type": "stream",
     "text": [
      "EARTH:\n",
      "Pos: [ 0.99978923 -0.02065886], Vel: [0.13018938 6.28182399], Accl: [-39.46962959   0.81805078]\n",
      "Accl Type: Acceleration\n",
      "EARTH:\n",
      "Pos: [-0.95756012 -0.28927955], Vel: [ 1.8171395  -6.01256936], Accl: [37.7544923  11.40812029]\n",
      "Accl Type: BetaAcceleration\n",
      "EARTH:\n",
      "Pos: [ 0.99978931 -0.02065514], Vel: [0.13016603 6.28182447], Accl: [-39.4696338    0.81790403]\n",
      "Accl Type: GenAcceleration\n"
     ]
    },
    {
     "data": {
      "text/plain": [
       "<matplotlib.legend.Legend at 0x7f299f08edd8>"
      ]
     },
     "execution_count": 6,
     "metadata": {},
     "output_type": "execute_result"
    },
    {
     "data": {
      "image/png": "[encoded data removed]",
      "text/plain": [
       "<Figure size 432x432 with 1 Axes>"
      ]
     },
     "metadata": {
      "needs_background": "light"
     },
     "output_type": "display_data"
    }
   ],
   "source": [
    "AcclTypes = [Acceleration, BetaAcceleration, GenAcceleration]\n",
    "extra_args = [None, 2.99, None]\n",
    "\n",
    "plt.figure(figsize=(6,6))\n",
    "plt.title(\"Diffrence of path between acceleration types\")\n",
    "plt.xlabel(\"x\")\n",
    "plt.ylabel(\"y\")\n",
    "\n",
    "\n",
    "for ea, AT in zip(extra_args, AcclTypes):\n",
    "    earth = Body([1., 0.], [0., 2. * np.pi], 1e-6, AT, ea)\n",
    "    sun = Body([0., 0.], [0., 0.], 1.0, AT, ea)\n",
    "    \n",
    "    sol = [earth, sun]\n",
    "    \n",
    "    integrator = Verlet(sol)\n",
    "    integrator(2000, 10)\n",
    "\n",
    "    earth_pos = integrator.system_pos[0, :, :]\n",
    "\n",
    "    plt.plot(earth_pos[:, 0], earth_pos[:, 1], \"--\",label=AT.__name__)\n",
    "    \n",
    "    print(\"EARTH:\")\n",
    "    earth()\n",
    "        \n",
    "plt.legend()"
   ]
  },
  {
   "cell_type": "code",
   "execution_count": 7,
   "metadata": {},
   "outputs": [],
   "source": [
    "earth = Body([1., 0.], [0., 2. * np.pi], 1e-6, Acceleration)\n",
    "sun = Body([0., 0.], [0., 0.], 1.0, Acceleration)\n",
    "\n",
    "sol = [earth, sun]\n",
    "\n",
    "integrator = Euler(sol)\n",
    "integrator(20000, 10)\n",
    "\n",
    "earth_pos = integrator.system_pos[0, :, :]\n",
    "sun_pos = integrator.system_pos[1, :, :]"
   ]
  },
  {
   "cell_type": "code",
   "execution_count": 8,
   "metadata": {},
   "outputs": [
    {
     "data": {
      "text/plain": [
       "<matplotlib.legend.Legend at 0x7f299efe2748>"
      ]
     },
     "execution_count": 8,
     "metadata": {},
     "output_type": "execute_result"
    },
    {
     "data": {
      "image/png": "[encoded data removed]",
      "text/plain": [
       "<Figure size 432x432 with 1 Axes>"
      ]
     },
     "metadata": {
      "needs_background": "light"
     },
     "output_type": "display_data"
    }
   ],
   "source": [
    "plt.figure(figsize=(6,6))\n",
    "plt.plot(earth_pos[:, 0], earth_pos[:, 1], label='Earth')\n",
    "plt.plot(sun_pos[:, 0], sun_pos[:, 1], 'x', label=\"Sun\")\n",
    "plt.legend()"
   ]
  },
  {
   "cell_type": "markdown",
   "metadata": {},
   "source": [
    "### Perihelion\n",
    "Checking the case of Mercury's perihelion without general relativity taken into consideration in the acceleration:"
   ]
  },
  {
   "cell_type": "code",
   "execution_count": 64,
   "metadata": {},
   "outputs": [
    {
     "name": "stdout",
     "output_type": "stream",
     "text": [
      "[0.9989401  0.99893382 0.99892754 0.99892126]\n"
     ]
    },
    {
     "data": {
      "text/plain": [
       "<matplotlib.legend.Legend at 0x7f299c3cd8d0>"
      ]
     },
     "execution_count": 64,
     "metadata": {},
     "output_type": "execute_result"
    },
    {
     "data": {
      "image/png": "[encoded data removed]",
      "text/plain": [
       "<Figure size 432x432 with 1 Axes>"
      ]
     },
     "metadata": {
      "needs_background": "light"
     },
     "output_type": "display_data"
    }
   ],
   "source": [
    "from scipy.signal import argrelextrema\n",
    "\n",
    "mercury = Body([0.3075, 0.], [0., 12.44], 1e-6, Acceleration)\n",
    "sun = Body([0., 0.], [0., 0.], 1.0, Acceleration)\n",
    "\n",
    "sol = [earth, sun]\n",
    "\n",
    "integrator = Verlet(sol)\n",
    "integrator(200000, 4)\n",
    "\n",
    "mercury_pos = integrator.system_pos[0, :, :]\n",
    "sun_pos = integrator.system_pos[1, :, :]\n",
    "\n",
    "rposs = np.linalg.norm(mercury_pos, 2, axis=1)\n",
    "local_minima_idx = argrelextrema(rposs, np.less)\n",
    "\n",
    "for lmi in local_minima_idx:\n",
    "    print(rposs[lmi])\n",
    "\n",
    "plt.figure(figsize=(6,6))\n",
    "plt.plot(mercury_pos[:, 0], mercury_pos[:, 1], label='Mercury')\n",
    "plt.plot(sun_pos[:, 0], sun_pos[:, 1], 'x', label=\"Sun\")\n",
    "plt.legend()"
   ]
  },
  {
   "cell_type": "code",
   "execution_count": 65,
   "metadata": {},
   "outputs": [
    {
     "data": {
      "image/png": "[encoded data removed]",
      "text/plain": [
       "<Figure size 432x432 with 1 Axes>"
      ]
     },
     "metadata": {
      "needs_background": "light"
     },
     "output_type": "display_data"
    }
   ],
   "source": [
    "# Perihelion position\n",
    "perx = mercury_pos[:,0].take(local_minima_idx)\n",
    "pery = mercury_pos[:,1].take(local_minima_idx)\n",
    "\n",
    "plt.figure(figsize=(6,6))\n",
    "plt.title(r\"Position of Mercury's perihelion for each orbit\",\n",
    "         fontsize=16)\n",
    "plt.plot(perx.T, pery.T, \"--o\")\n",
    "plt.show()"
   ]
  },
  {
   "cell_type": "code",
   "execution_count": 66,
   "metadata": {},
   "outputs": [
    {
     "data": {
      "text/plain": [
       "array([[23.9179476 , -2.06002932, -2.06313162]])"
      ]
     },
     "execution_count": 66,
     "metadata": {},
     "output_type": "execute_result"
    }
   ],
   "source": [
    "arcsecond = np.pi / 648000\n",
    "\n",
    "tan_phi = pery / perx\n",
    "peri_phi = np.arctan(tan_phi)\n",
    "\n",
    "arc_diff = np.diff(peri_phi) / arcsecond\n",
    "arc_diff"
   ]
  }
 ],
 "metadata": {
  "kernelspec": {
   "display_name": "Python 3",
   "language": "python",
   "name": "python3"
  },
  "language_info": {
   "codemirror_mode": {
    "name": "ipython",
    "version": 3
   },
   "file_extension": ".py",
   "mimetype": "text/x-python",
   "name": "python",
   "nbconvert_exporter": "python",
   "pygments_lexer": "ipython3",
   "version": "3.7.0"
  }
 },
 "nbformat": 4,
 "nbformat_minor": 2
}
