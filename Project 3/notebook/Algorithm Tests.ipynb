{
 "cells": [
  {
   "cell_type": "markdown",
   "metadata": {},
   "source": [
    "## Algorithm tests for Project 3"
   ]
  },
  {
   "cell_type": "markdown",
   "metadata": {},
   "source": [
    "### Euler's and Verlet method in co-planar solar system model\n",
    "\n",
    "Showing only for x-coor. y-coor is analogous. \n",
    "\n",
    "**Euler's method:**\n",
    "\n",
    "$$ v_{i+1} = v_i + \\frac{4 \\pi^2}{T^2}x_i + O(h^2) $$\n",
    "\n",
    "$$ x_{i+1} = x_i + v_ih + O(h^2) $$\n",
    "\n",
    "**Verlet formula:**\n",
    "\n",
    "$$ x_{i+1} = 2x_i - x_{i-1} + h^2v_i + O(h^4) $$\n",
    "\n",
    "Foumla for velocity:"
   ]
  },
  {
   "cell_type": "code",
   "execution_count": 36,
   "metadata": {},
   "outputs": [],
   "source": [
    "import numpy as np\n",
    "import matplotlib.pyplot as plt\n",
    "\n",
    "%matplotlib inline"
   ]
  },
  {
   "cell_type": "code",
   "execution_count": 37,
   "metadata": {},
   "outputs": [],
   "source": [
    "x0, y0 = 1, 0\n",
    "v0, u0 = 0, 2 * np.pi\n",
    "\n",
    "def fwrd_euler(x, xb, v, h):\n",
    "    xf = x + v * h\n",
    "    vf = v - 4 * np.pi * np.pi * xf * h\n",
    "    return xf, vf\n",
    "\n",
    "\n",
    "def verlet(x, xb, v, h):\n",
    "    xf = 2 * x - xb + h * h * v\n",
    "    vf = -2 * np.pi * xf\n",
    "\n",
    "    return xf, vf"
   ]
  },
  {
   "cell_type": "code",
   "execution_count": 38,
   "metadata": {},
   "outputs": [],
   "source": [
    "def solve(x0, v0, method, N):\n",
    "    h = 1.0 / N\n",
    "    xs = np.zeros(N + 1)\n",
    "    \n",
    "    xs[0] = x0  \n",
    "    xb = x0\n",
    "    v = v0\n",
    "    \n",
    "    for i, x in enumerate(xs[:-1]):\n",
    "        xs[i+1], v = method(x, xb, v, h)\n",
    "        xb = x\n",
    "    return xs"
   ]
  },
  {
   "cell_type": "code",
   "execution_count": 39,
   "metadata": {
    "scrolled": false
   },
   "outputs": [],
   "source": [
    "N = 1001\n",
    "ts = np.linspace(0, 1.0, N + 1)\n",
    "\n",
    "xs = solve(x0, v0, fwrd_euler, N)\n",
    "ys = solve(y0, u0, fwrd_euler, N)"
   ]
  },
  {
   "cell_type": "code",
   "execution_count": 41,
   "metadata": {
    "scrolled": true
   },
   "outputs": [
    {
     "data": {
      "text/plain": [
       "[<matplotlib.lines.Line2D at 0x7fa7245fc748>]"
      ]
     },
     "execution_count": 41,
     "metadata": {},
     "output_type": "execute_result"
    },
    {
     "data": {
      "image/png": "[encoded data removed]",
      "text/plain": [
       "<Figure size 432x288 with 1 Axes>"
      ]
     },
     "metadata": {
      "needs_background": "light"
     },
     "output_type": "display_data"
    }
   ],
   "source": [
    "plt.plot(ys, xs)"
   ]
  }
 ],
 "metadata": {
  "kernelspec": {
   "display_name": "Python 3",
   "language": "python",
   "name": "python3"
  },
  "language_info": {
   "codemirror_mode": {
    "name": "ipython",
    "version": 3
   },
   "file_extension": ".py",
   "mimetype": "text/x-python",
   "name": "python",
   "nbconvert_exporter": "python",
   "pygments_lexer": "ipython3",
   "version": "3.7.0"
  }
 },
 "nbformat": 4,
 "nbformat_minor": 2
}
